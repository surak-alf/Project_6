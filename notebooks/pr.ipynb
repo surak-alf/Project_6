{
 "cells": [
  {
   "cell_type": "code",
   "execution_count": 22,
   "metadata": {},
   "outputs": [],
   "source": [
    "import pandas as pd\n",
    "import asyncio\n",
    "from telethon import TelegramClient\n",
    "from telethon.tl.functions.channels import GetMessagesRequest\n",
    "from telethon.tl.types import InputChannel, InputPeerChannel\n",
    "#from transformers import AutoTokenizer\n",
    "#from datasets import load_dataset\n",
    "#import sentencepiece as spm\n",
    "#from amseg.amharicSegmenter import AmharicSegmenter\n",
    "import os\n",
    "import nest_asyncio"
   ]
  },
  {
   "cell_type": "code",
   "execution_count": 23,
   "metadata": {},
   "outputs": [],
   "source": [
    "import sys\n",
    "\n",
    "# Get the directory of the current notebook\n",
    "current_dir = os.path.dirname(os.path.abspath('../scripts')) \n",
    "\n",
    "# Add the 'scripts' directory to the Python path\n",
    "scripts_dir = os.path.join(current_dir, 'scripts')\n",
    "sys.path.append(scripts_dir)"
   ]
  },
  {
   "cell_type": "code",
   "execution_count": 24,
   "metadata": {},
   "outputs": [],
   "source": [
    "import scrape"
   ]
  },
  {
   "cell_type": "code",
   "execution_count": 28,
   "metadata": {},
   "outputs": [],
   "source": [
    "from dotenv import load_dotenv"
   ]
  },
  {
   "cell_type": "code",
   "execution_count": 29,
   "metadata": {},
   "outputs": [
    {
     "ename": "RuntimeError",
     "evalue": "You must use \"async with\" if the event loop is running (i.e. you are inside an \"async def\")",
     "output_type": "error",
     "traceback": [
      "\u001b[1;31m---------------------------------------------------------------------------\u001b[0m",
      "\u001b[1;31mRuntimeError\u001b[0m                              Traceback (most recent call last)",
      "Cell \u001b[1;32mIn[29], line 48\u001b[0m\n\u001b[0;32m     45\u001b[0m             \u001b[38;5;28;01mawait\u001b[39;00m scrape_channel(client, channel, writer, media_dir)\n\u001b[0;32m     46\u001b[0m             \u001b[38;5;28mprint\u001b[39m(\u001b[38;5;124mf\u001b[39m\u001b[38;5;124m\"\u001b[39m\u001b[38;5;124mScraped data from \u001b[39m\u001b[38;5;132;01m{\u001b[39;00mchannel\u001b[38;5;132;01m}\u001b[39;00m\u001b[38;5;124m\"\u001b[39m)\n\u001b[1;32m---> 48\u001b[0m \u001b[38;5;28;43;01mwith\u001b[39;49;00m\u001b[43m \u001b[49m\u001b[43mclient\u001b[49m\u001b[43m:\u001b[49m\n\u001b[0;32m     49\u001b[0m \u001b[43m    \u001b[49m\u001b[43mclient\u001b[49m\u001b[38;5;241;43m.\u001b[39;49m\u001b[43mloop\u001b[49m\u001b[38;5;241;43m.\u001b[39;49m\u001b[43mrun_until_complete\u001b[49m\u001b[43m(\u001b[49m\u001b[43mmain\u001b[49m\u001b[43m(\u001b[49m\u001b[43m)\u001b[49m\u001b[43m)\u001b[49m\n",
      "File \u001b[1;32mc:\\Users\\Maintenant prêt\\Desktop\\PROJECTS\\Project_6\\venv\\Lib\\site-packages\\telethon\\helpers.py:214\u001b[0m, in \u001b[0;36m_sync_enter\u001b[1;34m(self)\u001b[0m\n\u001b[0;32m    211\u001b[0m     loop \u001b[38;5;241m=\u001b[39m \u001b[38;5;28mself\u001b[39m\u001b[38;5;241m.\u001b[39m_client\u001b[38;5;241m.\u001b[39mloop\n\u001b[0;32m    213\u001b[0m \u001b[38;5;28;01mif\u001b[39;00m loop\u001b[38;5;241m.\u001b[39mis_running():\n\u001b[1;32m--> 214\u001b[0m     \u001b[38;5;28;01mraise\u001b[39;00m \u001b[38;5;167;01mRuntimeError\u001b[39;00m(\n\u001b[0;32m    215\u001b[0m         \u001b[38;5;124m'\u001b[39m\u001b[38;5;124mYou must use \u001b[39m\u001b[38;5;124m\"\u001b[39m\u001b[38;5;124masync with\u001b[39m\u001b[38;5;124m\"\u001b[39m\u001b[38;5;124m if the event loop \u001b[39m\u001b[38;5;124m'\u001b[39m\n\u001b[0;32m    216\u001b[0m         \u001b[38;5;124m'\u001b[39m\u001b[38;5;124mis running (i.e. you are inside an \u001b[39m\u001b[38;5;124m\"\u001b[39m\u001b[38;5;124masync def\u001b[39m\u001b[38;5;124m\"\u001b[39m\u001b[38;5;124m)\u001b[39m\u001b[38;5;124m'\u001b[39m\n\u001b[0;32m    217\u001b[0m     )\n\u001b[0;32m    219\u001b[0m \u001b[38;5;28;01mreturn\u001b[39;00m loop\u001b[38;5;241m.\u001b[39mrun_until_complete(\u001b[38;5;28mself\u001b[39m\u001b[38;5;241m.\u001b[39m\u001b[38;5;21m__aenter__\u001b[39m())\n",
      "\u001b[1;31mRuntimeError\u001b[0m: You must use \"async with\" if the event loop is running (i.e. you are inside an \"async def\")"
     ]
    }
   ],
   "source": [
    "load_dotenv('.env')\n",
    "api_id = os.getenv('TG_API_ID')\n",
    "api_hash = os.getenv('TG_API_HASH')\n",
    "phone = os.getenv('phone')\n",
    "# Function to scrape data from a single channel\n",
    "async def scrape_channel(client, channel_username, writer, media_dir):\n",
    "    entity = await client.get_entity(channel_username)\n",
    "    channel_title = entity.title  # Extract the channel's title\n",
    "    async for message in client.iter_messages(entity, limit=10000):\n",
    "        media_path = None\n",
    "        if message.media and hasattr(message.media, 'photo'):\n",
    "            # Create a unique filename for the photo\n",
    "            filename = f\"{channel_username}_{message.id}.jpg\"\n",
    "            media_path = os.path.join(media_dir, filename)\n",
    "            # Download the media to the specified directory if it's a photo\n",
    "            await client.download_media(message.media, media_path)\n",
    "        \n",
    "        # Write the channel title along with other data\n",
    "        writer.writerow([channel_title, channel_username, message.id, message.message, message.date, media_path])\n",
    "\n",
    "# Initialize the client once\n",
    "client = TelegramClient('scraping_session', api_id, api_hash)\n",
    "\n",
    "async def main():\n",
    "    await client.start()\n",
    "    \n",
    "    # Create a directory for media files\n",
    "    media_dir = 'photos'\n",
    "    os.makedirs(media_dir, exist_ok=True)\n",
    "\n",
    "    # Open the CSV file and prepare the writer\n",
    "    with open('telegram_data.csv', 'w', newline='', encoding='utf-8') as file:\n",
    "        writer = csv.writer(file)\n",
    "        writer.writerow(['Channel Title', 'Channel Username', 'ID', 'Message', 'Date', 'Media Path'])  # Include channel title in the header\n",
    "        \n",
    "        # List of channels to scrape\n",
    "        channels = [\n",
    "            '@Shageronlinestore',  # Existing channel\n",
    "                 # You can add more channels here\n",
    "            \n",
    "        ]\n",
    "        \n",
    "        # Iterate over channels and scrape data into the single CSV file\n",
    "        for channel in channels:\n",
    "            await scrape_channel(client, channel, writer, media_dir)\n",
    "            print(f\"Scraped data from {channel}\")\n",
    "\n",
    "with client:\n",
    "    client.loop.run_until_complete(main())"
   ]
  },
  {
   "cell_type": "code",
   "execution_count": 40,
   "metadata": {},
   "outputs": [
    {
     "ename": "RuntimeError",
     "evalue": "asyncio.run() cannot be called from a running event loop",
     "output_type": "error",
     "traceback": [
      "\u001b[1;31m---------------------------------------------------------------------------\u001b[0m",
      "\u001b[1;31mRuntimeError\u001b[0m                              Traceback (most recent call last)",
      "Cell \u001b[1;32mIn[40], line 53\u001b[0m\n\u001b[0;32m     51\u001b[0m \u001b[38;5;66;03m# Run the program with async context manager\u001b[39;00m\n\u001b[0;32m     52\u001b[0m \u001b[38;5;28;01mif\u001b[39;00m \u001b[38;5;18m__name__\u001b[39m \u001b[38;5;241m==\u001b[39m \u001b[38;5;124m'\u001b[39m\u001b[38;5;124m__main__\u001b[39m\u001b[38;5;124m'\u001b[39m:\n\u001b[1;32m---> 53\u001b[0m   \u001b[43masyncio\u001b[49m\u001b[38;5;241;43m.\u001b[39;49m\u001b[43mrun\u001b[49m\u001b[43m(\u001b[49m\u001b[43mmain\u001b[49m\u001b[43m(\u001b[49m\u001b[43m)\u001b[49m\u001b[43m)\u001b[49m\n",
      "File \u001b[1;32m~\\AppData\\Local\\Programs\\Python\\Python312\\Lib\\asyncio\\runners.py:190\u001b[0m, in \u001b[0;36mrun\u001b[1;34m(main, debug, loop_factory)\u001b[0m\n\u001b[0;32m    161\u001b[0m \u001b[38;5;250m\u001b[39m\u001b[38;5;124;03m\"\"\"Execute the coroutine and return the result.\u001b[39;00m\n\u001b[0;32m    162\u001b[0m \n\u001b[0;32m    163\u001b[0m \u001b[38;5;124;03mThis function runs the passed coroutine, taking care of\u001b[39;00m\n\u001b[1;32m   (...)\u001b[0m\n\u001b[0;32m    186\u001b[0m \u001b[38;5;124;03m    asyncio.run(main())\u001b[39;00m\n\u001b[0;32m    187\u001b[0m \u001b[38;5;124;03m\"\"\"\u001b[39;00m\n\u001b[0;32m    188\u001b[0m \u001b[38;5;28;01mif\u001b[39;00m events\u001b[38;5;241m.\u001b[39m_get_running_loop() \u001b[38;5;129;01mis\u001b[39;00m \u001b[38;5;129;01mnot\u001b[39;00m \u001b[38;5;28;01mNone\u001b[39;00m:\n\u001b[0;32m    189\u001b[0m     \u001b[38;5;66;03m# fail fast with short traceback\u001b[39;00m\n\u001b[1;32m--> 190\u001b[0m     \u001b[38;5;28;01mraise\u001b[39;00m \u001b[38;5;167;01mRuntimeError\u001b[39;00m(\n\u001b[0;32m    191\u001b[0m         \u001b[38;5;124m\"\u001b[39m\u001b[38;5;124masyncio.run() cannot be called from a running event loop\u001b[39m\u001b[38;5;124m\"\u001b[39m)\n\u001b[0;32m    193\u001b[0m \u001b[38;5;28;01mwith\u001b[39;00m Runner(debug\u001b[38;5;241m=\u001b[39mdebug, loop_factory\u001b[38;5;241m=\u001b[39mloop_factory) \u001b[38;5;28;01mas\u001b[39;00m runner:\n\u001b[0;32m    194\u001b[0m     \u001b[38;5;28;01mreturn\u001b[39;00m runner\u001b[38;5;241m.\u001b[39mrun(main)\n",
      "\u001b[1;31mRuntimeError\u001b[0m: asyncio.run() cannot be called from a running event loop"
     ]
    }
   ],
   "source": [
    "#import asyncio\n",
    "#import csv\n",
    "#from os import getenv, makedirs, path\n",
    "#from telegram.tl.functions.messages import GetEntity\n",
    "\n",
    "# Function to scrape data from a single channel\n",
    "async def scrape_channel(client, channel_username, writer, media_dir):\n",
    "    entity = await client.get_entity(channel_username)\n",
    "    channel_title = entity.title  # Extract the channel's title\n",
    "    async for message in client.iter_messages(entity, limit=10000):\n",
    "        media_path = None\n",
    "        if message.media and hasattr(message.media, 'photo'):\n",
    "            # Create a unique filename for the photo\n",
    "            filename = f\"{channel_username}_{message.id}.jpg\"\n",
    "            media_path = path.join(media_dir, filename)\n",
    "            # Download the media to the specified directory if it's a photo\n",
    "            await client.download_media(message.media, media_path)\n",
    "\n",
    "        # Write the channel title along with other data\n",
    "        writer.writerow([channel_title, channel_username, message.id, message.message, message.date, media_path])\n",
    "\n",
    "# Initialize the Telegram client\n",
    "async def main():\n",
    "    api_id = int(getenv('TG_API_ID'))\n",
    "    api_hash = getenv('TG_API_HASH')\n",
    "    phone = getenv('phone')\n",
    "    client = TelegramClient('scraping_session', api_id, api_hash)\n",
    "\n",
    "    await client.start()\n",
    "\n",
    "    # Create a directory for media files\n",
    "    media_dir = 'photos'\n",
    "    makedirs(media_dir, exist_ok=True)\n",
    "\n",
    "    # Open the CSV file and prepare the writer\n",
    "    with open('telegram_data.csv', 'w', newline='', encoding='utf-8') as file:\n",
    "        writer = csv.writer(file)\n",
    "        writer.writerow(['Channel Title', 'Channel Username', 'ID', 'Message', 'Date', 'Media Path'])  # Include channel title in the header\n",
    "\n",
    "        # List of channels to scrape\n",
    "        channels = [\n",
    "            '@Shageronlinestore',  # Existing channel\n",
    "            # You can add more channels here\n",
    "        ]\n",
    "\n",
    "        # Iterate over channels and scrape data into the single CSV file\n",
    "        for channel in channels:\n",
    "            await scrape_channel(client, channel, writer, media_dir)\n",
    "            print(f\"Scraped data from {channel}\")\n",
    "\n",
    "# Run the program with async context manager\n",
    "if __name__ == '__main__':\n",
    "  asyncio.run(main())"
   ]
  },
  {
   "cell_type": "code",
   "execution_count": 36,
   "metadata": {},
   "outputs": [],
   "source": [
    "from telethon import TelegramClient"
   ]
  },
  {
   "cell_type": "code",
   "execution_count": 35,
   "metadata": {},
   "outputs": [
    {
     "ename": "ImportError",
     "evalue": "cannot import name 'GetEntity' from 'telethon.tl.functions.messages' (c:\\Users\\Maintenant prêt\\Desktop\\PROJECTS\\Project_6\\venv\\Lib\\site-packages\\telethon\\tl\\functions\\messages.py)",
     "output_type": "error",
     "traceback": [
      "\u001b[1;31m---------------------------------------------------------------------------\u001b[0m",
      "\u001b[1;31mImportError\u001b[0m                               Traceback (most recent call last)",
      "Cell \u001b[1;32mIn[35], line 1\u001b[0m\n\u001b[1;32m----> 1\u001b[0m \u001b[38;5;28;01mfrom\u001b[39;00m\u001b[38;5;250m \u001b[39m\u001b[38;5;21;01mtelethon\u001b[39;00m\u001b[38;5;21;01m.\u001b[39;00m\u001b[38;5;21;01mtl\u001b[39;00m\u001b[38;5;21;01m.\u001b[39;00m\u001b[38;5;21;01mfunctions\u001b[39;00m\u001b[38;5;21;01m.\u001b[39;00m\u001b[38;5;21;01mmessages\u001b[39;00m\u001b[38;5;250m \u001b[39m\u001b[38;5;28;01mimport\u001b[39;00m GetEntity\n",
      "\u001b[1;31mImportError\u001b[0m: cannot import name 'GetEntity' from 'telethon.tl.functions.messages' (c:\\Users\\Maintenant prêt\\Desktop\\PROJECTS\\Project_6\\venv\\Lib\\site-packages\\telethon\\tl\\functions\\messages.py)"
     ]
    }
   ],
   "source": [
    "from telethon.tl.functions.messages import GetEntity"
   ]
  },
  {
   "cell_type": "code",
   "execution_count": 33,
   "metadata": {},
   "outputs": [
    {
     "name": "stdout",
     "output_type": "stream",
     "text": [
      "Requirement already satisfied: telethon in c:\\users\\maintenant prêt\\desktop\\projects\\project_6\\venv\\lib\\site-packages (1.38.1)\n",
      "Requirement already satisfied: pyaes in c:\\users\\maintenant prêt\\desktop\\projects\\project_6\\venv\\lib\\site-packages (from telethon) (1.6.1)\n",
      "Requirement already satisfied: rsa in c:\\users\\maintenant prêt\\desktop\\projects\\project_6\\venv\\lib\\site-packages (from telethon) (4.9)\n",
      "Requirement already satisfied: pyasn1>=0.1.3 in c:\\users\\maintenant prêt\\desktop\\projects\\project_6\\venv\\lib\\site-packages (from rsa->telethon) (0.6.1)\n",
      "Note: you may need to restart the kernel to use updated packages.\n"
     ]
    }
   ],
   "source": [
    "pip install telethon"
   ]
  },
  {
   "cell_type": "code",
   "execution_count": 31,
   "metadata": {},
   "outputs": [
    {
     "name": "stdout",
     "output_type": "stream",
     "text": [
      "Collecting python-telegram-botNote: you may need to restart the kernel to use updated packages.\n",
      "\n",
      "  Downloading python_telegram_bot-21.10-py3-none-any.whl.metadata (17 kB)\n",
      "Collecting httpx~=0.27 (from python-telegram-bot)\n",
      "  Downloading httpx-0.28.1-py3-none-any.whl.metadata (7.1 kB)\n",
      "Collecting anyio (from httpx~=0.27->python-telegram-bot)\n",
      "  Downloading anyio-4.8.0-py3-none-any.whl.metadata (4.6 kB)\n",
      "Collecting certifi (from httpx~=0.27->python-telegram-bot)\n",
      "  Using cached certifi-2024.12.14-py3-none-any.whl.metadata (2.3 kB)\n",
      "Collecting httpcore==1.* (from httpx~=0.27->python-telegram-bot)\n",
      "  Downloading httpcore-1.0.7-py3-none-any.whl.metadata (21 kB)\n",
      "Collecting idna (from httpx~=0.27->python-telegram-bot)\n",
      "  Using cached idna-3.10-py3-none-any.whl.metadata (10 kB)\n",
      "Collecting h11<0.15,>=0.13 (from httpcore==1.*->httpx~=0.27->python-telegram-bot)\n",
      "  Downloading h11-0.14.0-py3-none-any.whl.metadata (8.2 kB)\n",
      "Collecting sniffio>=1.1 (from anyio->httpx~=0.27->python-telegram-bot)\n",
      "  Downloading sniffio-1.3.1-py3-none-any.whl.metadata (3.9 kB)\n",
      "Collecting typing_extensions>=4.5 (from anyio->httpx~=0.27->python-telegram-bot)\n",
      "  Using cached typing_extensions-4.12.2-py3-none-any.whl.metadata (3.0 kB)\n",
      "Downloading python_telegram_bot-21.10-py3-none-any.whl (669 kB)\n",
      "   ---------------------------------------- 0.0/669.5 kB ? eta -:--:--\n",
      "   ---------------------------------------- 0.0/669.5 kB ? eta -:--:--\n",
      "   ---------------------------------------- 0.0/669.5 kB ? eta -:--:--\n",
      "   ---------------------------------------- 0.0/669.5 kB ? eta -:--:--\n",
      "   ---------------------------------------- 0.0/669.5 kB ? eta -:--:--\n",
      "   ---------------------------------------- 0.0/669.5 kB ? eta -:--:--\n",
      "   ---------------------------------------- 0.0/669.5 kB ? eta -:--:--\n",
      "   ---------------------------------------- 0.0/669.5 kB ? eta -:--:--\n",
      "   ---------------------------------------- 0.0/669.5 kB ? eta -:--:--\n",
      "   --------------- ------------------------ 262.1/669.5 kB ? eta -:--:--\n",
      "   --------------- ------------------------ 262.1/669.5 kB ? eta -:--:--\n",
      "   --------------- ------------------------ 262.1/669.5 kB ? eta -:--:--\n",
      "   --------------- ------------------------ 262.1/669.5 kB ? eta -:--:--\n",
      "   --------------- ------------------------ 262.1/669.5 kB ? eta -:--:--\n",
      "   --------------- ------------------------ 262.1/669.5 kB ? eta -:--:--\n",
      "   --------------- ------------------------ 262.1/669.5 kB ? eta -:--:--\n",
      "   --------------- ------------------------ 262.1/669.5 kB ? eta -:--:--\n",
      "   --------------- ------------------------ 262.1/669.5 kB ? eta -:--:--\n",
      "   ----------------------------- -------- 524.3/669.5 kB 139.8 kB/s eta 0:00:02\n",
      "   ----------------------------- -------- 524.3/669.5 kB 139.8 kB/s eta 0:00:02\n",
      "   ----------------------------- -------- 524.3/669.5 kB 139.8 kB/s eta 0:00:02\n",
      "   -------------------------------------- 669.5/669.5 kB 165.0 kB/s eta 0:00:00\n",
      "Downloading httpx-0.28.1-py3-none-any.whl (73 kB)\n",
      "Downloading httpcore-1.0.7-py3-none-any.whl (78 kB)\n",
      "Downloading anyio-4.8.0-py3-none-any.whl (96 kB)\n",
      "Using cached idna-3.10-py3-none-any.whl (70 kB)\n",
      "Using cached certifi-2024.12.14-py3-none-any.whl (164 kB)\n",
      "Downloading h11-0.14.0-py3-none-any.whl (58 kB)\n",
      "Downloading sniffio-1.3.1-py3-none-any.whl (10 kB)\n",
      "Using cached typing_extensions-4.12.2-py3-none-any.whl (37 kB)\n",
      "Installing collected packages: typing_extensions, sniffio, idna, h11, certifi, httpcore, anyio, httpx, python-telegram-bot\n",
      "Successfully installed anyio-4.8.0 certifi-2024.12.14 h11-0.14.0 httpcore-1.0.7 httpx-0.28.1 idna-3.10 python-telegram-bot-21.10 sniffio-1.3.1 typing_extensions-4.12.2\n"
     ]
    }
   ],
   "source": [
    "pip install python-telegram-bot"
   ]
  },
  {
   "cell_type": "code",
   "execution_count": 25,
   "metadata": {},
   "outputs": [
    {
     "ename": "NameError",
     "evalue": "name 'api_id' is not defined",
     "output_type": "error",
     "traceback": [
      "\u001b[1;31m---------------------------------------------------------------------------\u001b[0m",
      "\u001b[1;31mNameError\u001b[0m                                 Traceback (most recent call last)",
      "Cell \u001b[1;32mIn[25], line 18\u001b[0m\n\u001b[0;32m     15\u001b[0m         writer\u001b[38;5;241m.\u001b[39mwriterow([channel_title, channel_username, message\u001b[38;5;241m.\u001b[39mid, message\u001b[38;5;241m.\u001b[39mmessage, message\u001b[38;5;241m.\u001b[39mdate, media_path])\n\u001b[0;32m     17\u001b[0m \u001b[38;5;66;03m# Initialize the client once\u001b[39;00m\n\u001b[1;32m---> 18\u001b[0m client \u001b[38;5;241m=\u001b[39m TelegramClient(\u001b[38;5;124m'\u001b[39m\u001b[38;5;124mscraping_session\u001b[39m\u001b[38;5;124m'\u001b[39m, \u001b[43mapi_id\u001b[49m, api_hash)\n\u001b[0;32m     20\u001b[0m \u001b[38;5;28;01masync\u001b[39;00m \u001b[38;5;28;01mdef\u001b[39;00m\u001b[38;5;250m \u001b[39m\u001b[38;5;21mmain\u001b[39m():\n\u001b[0;32m     21\u001b[0m     \u001b[38;5;28;01mawait\u001b[39;00m client\u001b[38;5;241m.\u001b[39mstart()\n",
      "\u001b[1;31mNameError\u001b[0m: name 'api_id' is not defined"
     ]
    }
   ],
   "source": [
    "# Function to scrape data from a single channel\n",
    "async def scrape_channel(client, channel_username, writer, media_dir):\n",
    "    entity = await client.get_entity(channel_username)\n",
    "    channel_title = entity.title  # Extract the channel's title\n",
    "    async for message in client.iter_messages(entity, limit=10000):\n",
    "        media_path = None\n",
    "        if message.media and hasattr(message.media, 'photo'):\n",
    "            # Create a unique filename for the photo\n",
    "            filename = f\"{channel_username}_{message.id}.jpg\"\n",
    "            media_path = os.path.join(media_dir, filename)\n",
    "            # Download the media to the specified directory if it's a photo\n",
    "            await client.download_media(message.media, media_path)\n",
    "        \n",
    "        # Write the channel title along with other data\n",
    "        writer.writerow([channel_title, channel_username, message.id, message.message, message.date, media_path])\n",
    "\n",
    "# Initialize the client once\n",
    "client = TelegramClient('scraping_session', api_id, api_hash)\n",
    "\n",
    "async def main():\n",
    "    await client.start()\n",
    "    \n",
    "    # Create a directory for media files\n",
    "    media_dir = 'photos'\n",
    "    os.makedirs(media_dir, exist_ok=True)\n",
    "\n",
    "    # Open the CSV file and prepare the writer\n",
    "    with open('telegram_data.csv', 'w', newline='', encoding='utf-8') as file:\n",
    "        writer = csv.writer(file)\n",
    "        writer.writerow(['Channel Title', 'Channel Username', 'ID', 'Message', 'Date', 'Media Path'])  # Include channel title in the header\n",
    "        \n",
    "        # List of channels to scrape\n",
    "        channels = [\n",
    "            '@Shageronlinestore',  # Existing channel\n",
    "                 # You can add more channels here\n",
    "            \n",
    "        ]\n",
    "        \n",
    "        # Iterate over channels and scrape data into the single CSV file\n",
    "        for channel in channels:\n",
    "            await scrape_channel(client, channel, writer, media_dir)\n",
    "            print(f\"Scraped data from {channel}\")\n",
    "\n",
    "with client:\n",
    "    client.loop.run_until_complete(main())"
   ]
  }
 ],
 "metadata": {
  "kernelspec": {
   "display_name": "venv",
   "language": "python",
   "name": "python3"
  },
  "language_info": {
   "codemirror_mode": {
    "name": "ipython",
    "version": 3
   },
   "file_extension": ".py",
   "mimetype": "text/x-python",
   "name": "python",
   "nbconvert_exporter": "python",
   "pygments_lexer": "ipython3",
   "version": "3.12.4"
  }
 },
 "nbformat": 4,
 "nbformat_minor": 2
}
